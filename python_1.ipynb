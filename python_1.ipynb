{
  "nbformat": 4,
  "nbformat_minor": 0,
  "metadata": {
    "colab": {
      "provenance": []
    },
    "kernelspec": {
      "name": "python3",
      "display_name": "Python 3"
    },
    "language_info": {
      "name": "python"
    }
  },
  "cells": [
    {
      "cell_type": "markdown",
      "source": [
        "**Buenos días** estoy aprendiendo python, pero a esta hora es super duro."
      ],
      "metadata": {
        "id": "Vvf7Xpyelt4y"
      }
    },
    {
      "cell_type": "code",
      "execution_count": null,
      "metadata": {
        "id": "AxEywz9GjPu1",
        "colab": {
          "base_uri": "https://localhost:8080/"
        },
        "outputId": "bce13c4b-86d8-4172-aff5-fc278392bf10"
      },
      "outputs": [
        {
          "output_type": "stream",
          "name": "stdout",
          "text": [
            "Diosito no me abandones quiero ser millonario\n"
          ]
        }
      ],
      "source": [
        "#Esto es una broma\n",
        "print(\"Diosito no me abandones quiero ser millonario\")"
      ]
    },
    {
      "cell_type": "code",
      "source": [
        "#Este soy yo\n",
        "print(\"Hola soy Lorena Beltran, tengo 32 años, tengo 2 hijos\")"
      ],
      "metadata": {
        "colab": {
          "base_uri": "https://localhost:8080/"
        },
        "id": "wQmO71gRml1d",
        "outputId": "b80ac754-bf7b-4bdf-821a-126c1f6090d7"
      },
      "execution_count": null,
      "outputs": [
        {
          "output_type": "stream",
          "name": "stdout",
          "text": [
            "Hola soy Lorena Beltran, tengo 32 años, tengo 2 hijos\n"
          ]
        }
      ]
    },
    {
      "cell_type": "code",
      "source": [
        "\"Las caleñas son como las flores\""
      ],
      "metadata": {
        "colab": {
          "base_uri": "https://localhost:8080/",
          "height": 35
        },
        "id": "5LsE0OYEnQ4r",
        "outputId": "9aa25353-c2ca-4104-d65a-7cbe3e13ab67"
      },
      "execution_count": null,
      "outputs": [
        {
          "output_type": "execute_result",
          "data": {
            "text/plain": [
              "'Las caleñas son como las flores'"
            ],
            "application/vnd.google.colaboratory.intrinsic+json": {
              "type": "string"
            }
          },
          "metadata": {},
          "execution_count": 7
        }
      ]
    },
    {
      "cell_type": "markdown",
      "source": [
        "**TIPOS DE DATOS**"
      ],
      "metadata": {
        "id": "fhAdTrZZn-tm"
      }
    },
    {
      "cell_type": "code",
      "source": [
        "#Tipo de dato entero, en inglés es integer y la abreviatura para Python es int\n",
        "type(32)"
      ],
      "metadata": {
        "colab": {
          "base_uri": "https://localhost:8080/"
        },
        "id": "_0Uej-7BoB0t",
        "outputId": "c1d677b7-34e7-4118-a4e2-254b269ea95a"
      },
      "execution_count": null,
      "outputs": [
        {
          "output_type": "execute_result",
          "data": {
            "text/plain": [
              "int"
            ]
          },
          "metadata": {},
          "execution_count": 8
        }
      ]
    },
    {
      "cell_type": "code",
      "source": [
        "#Tipo de dato flotante que en español, lo conoces como decimal, su abreviatura es float\n",
        "type(9.8)"
      ],
      "metadata": {
        "colab": {
          "base_uri": "https://localhost:8080/"
        },
        "id": "TrURBebapIL8",
        "outputId": "bab550ed-1a9f-4e69-83b6-536bc21e08cd"
      },
      "execution_count": null,
      "outputs": [
        {
          "output_type": "execute_result",
          "data": {
            "text/plain": [
              "float"
            ]
          },
          "metadata": {},
          "execution_count": 9
        }
      ]
    },
    {
      "cell_type": "code",
      "source": [
        "#Boleanos, son tipos de datos que solo pueden tener dos valores el True (verdadero) o False (falso\n",
        "type(True)"
      ],
      "metadata": {
        "colab": {
          "base_uri": "https://localhost:8080/"
        },
        "id": "_nv1QefHpVh5",
        "outputId": "e16adbe4-8a6b-4963-f9f7-c941cb02a1c7"
      },
      "execution_count": null,
      "outputs": [
        {
          "output_type": "execute_result",
          "data": {
            "text/plain": [
              "bool"
            ]
          },
          "metadata": {},
          "execution_count": 10
        }
      ]
    },
    {
      "cell_type": "code",
      "source": [
        "#Tipo de datos cadena, en inglés strings, siempre deben tener comillas, su abreviatura es str\n",
        "type(\"En un lugar de la mancha de cuyo nombre no puedo acordarme...\")"
      ],
      "metadata": {
        "colab": {
          "base_uri": "https://localhost:8080/"
        },
        "id": "a34dj7bEp2iS",
        "outputId": "feb4471f-aa03-4177-d65b-529caf9b4ff6"
      },
      "execution_count": null,
      "outputs": [
        {
          "output_type": "execute_result",
          "data": {
            "text/plain": [
              "str"
            ]
          },
          "metadata": {},
          "execution_count": 11
        }
      ]
    },
    {
      "cell_type": "markdown",
      "source": [
        "Métodos de las cadenas, las cadenas tienen funciones pequeñas que me ayudan a formatearlas"
      ],
      "metadata": {
        "id": "NhXhokW9qf5o"
      }
    },
    {
      "cell_type": "code",
      "source": [
        "print(\"Hola estoy aprendiendo Python\".upper())#Este metodo me sirve para poner mayúsculas\n",
        "print(\"Con PythOn pUedo pEdir UN aumento\".lower())#Este metodo me sirve para poner minúsculas\n",
        "print(\"las cenizas de Angela\".title())#Así puedo poner la inicial de cada palabra en mayúscula"
      ],
      "metadata": {
        "colab": {
          "base_uri": "https://localhost:8080/"
        },
        "id": "-iKXz7xRqpdV",
        "outputId": "28af8977-3fc9-4fc9-eb53-f04576e20620"
      },
      "execution_count": null,
      "outputs": [
        {
          "output_type": "stream",
          "name": "stdout",
          "text": [
            "HOLA ESTOY APRENDIENDO PYTHON\n",
            "con python puedo pedir un aumento\n",
            "Las Cenizas De Angela\n"
          ]
        }
      ]
    },
    {
      "cell_type": "code",
      "source": [
        "#Para contar las letras de una cadena puedo usar el metodo count\n",
        "print(\"El hotel del centro es el más antiguo del pueblo y también es aquel que tiene más comodidades. Este hotel fue construido en 1911, pero primero se utilizó como casa de familia. En 1975 un inversionista compró esta propiedad y la reformó para transformarla en el hotel que hoy conocemos. Es un hotel pequeño, pero cuenta con servicio a la habitación, con pileta climatizada, con un restaurante de categoría, entre otras cosas\".count('a'))"
      ],
      "metadata": {
        "colab": {
          "base_uri": "https://localhost:8080/"
        },
        "id": "zXpvux7iqzx6",
        "outputId": "4d7b5d3b-b673-4360-d776-3554804f573b"
      },
      "execution_count": null,
      "outputs": [
        {
          "output_type": "stream",
          "name": "stdout",
          "text": [
            "32\n"
          ]
        }
      ]
    },
    {
      "cell_type": "code",
      "source": [
        "print(\"\"\"Mi edad es 32 años\n",
        "mi género es Femenino\"\"\")\n"
      ],
      "metadata": {
        "colab": {
          "base_uri": "https://localhost:8080/"
        },
        "id": "c9pFxwGYsKIm",
        "outputId": "86ded7f0-65c6-498a-bb6c-23afecb00520"
      },
      "execution_count": null,
      "outputs": [
        {
          "output_type": "stream",
          "name": "stdout",
          "text": [
            "Mi edad es 32 años\n",
            "mi género es Femenino\n"
          ]
        }
      ]
    },
    {
      "cell_type": "code",
      "source": [
        "#Como reemplazar un valor dentro de una cadena utilizando replace\n",
        "print(\"Hola soy lorena beltran diaz\".replace('b','B'))"
      ],
      "metadata": {
        "colab": {
          "base_uri": "https://localhost:8080/"
        },
        "id": "RWhakVMys6Sg",
        "outputId": "6ac77941-4403-4134-8e0b-978982bec5c7"
      },
      "execution_count": null,
      "outputs": [
        {
          "output_type": "stream",
          "name": "stdout",
          "text": [
            "Hola soy lorena Beltran diaz\n"
          ]
        }
      ]
    },
    {
      "cell_type": "code",
      "source": [
        "print(\"Hola soy lorena Beltran diaz\".replace('l','L'))"
      ],
      "metadata": {
        "colab": {
          "base_uri": "https://localhost:8080/"
        },
        "id": "tLj7K6fttYkF",
        "outputId": "322e7a7a-3f44-4eeb-aba5-5dc3c7587373"
      },
      "execution_count": null,
      "outputs": [
        {
          "output_type": "stream",
          "name": "stdout",
          "text": [
            "HoLa soy Lorena BeLtran diaz\n"
          ]
        }
      ]
    },
    {
      "cell_type": "code",
      "source": [
        "print(\"Hola soy Lorena Beltran diaz\".replace('d','D'))"
      ],
      "metadata": {
        "colab": {
          "base_uri": "https://localhost:8080/"
        },
        "id": "XBlqa6oSt7Kz",
        "outputId": "63c8484d-287e-41d3-9e46-b841b4226efb"
      },
      "execution_count": null,
      "outputs": [
        {
          "output_type": "stream",
          "name": "stdout",
          "text": [
            "Hola soy Lorena Beltran Diaz\n"
          ]
        }
      ]
    },
    {
      "cell_type": "markdown",
      "source": [
        "**Variables:**\n",
        "Son espacios de memória que nos sirven para guardar información particular, deben tener un nombre que nos ayude a identificar su contenido"
      ],
      "metadata": {
        "id": "UjkqQKZ3uEcJ"
      }
    },
    {
      "cell_type": "code",
      "source": [
        "#Para declarar una variable se usa nombre de la variable, el signo igual y el valor\n",
        "#ejemplo: edad=32\n",
        "nombre=\"Lorena\"\n",
        "apellido=\"Beltran Diaz\"\n",
        "edad=32\n",
        "estado_civil=\"Unión Libre\""
      ],
      "metadata": {
        "id": "uFMdiGybuCKS"
      },
      "execution_count": null,
      "outputs": []
    },
    {
      "cell_type": "code",
      "source": [
        "nombre"
      ],
      "metadata": {
        "colab": {
          "base_uri": "https://localhost:8080/",
          "height": 35
        },
        "id": "GNd_MHEeu6JX",
        "outputId": "43a49444-905b-4ef1-e56b-be0d23c5c615"
      },
      "execution_count": null,
      "outputs": [
        {
          "output_type": "execute_result",
          "data": {
            "text/plain": [
              "'Lorena'"
            ],
            "application/vnd.google.colaboratory.intrinsic+json": {
              "type": "string"
            }
          },
          "metadata": {},
          "execution_count": 19
        }
      ]
    },
    {
      "cell_type": "code",
      "source": [
        "apellido"
      ],
      "metadata": {
        "colab": {
          "base_uri": "https://localhost:8080/",
          "height": 35
        },
        "id": "vAhB8s62u-1o",
        "outputId": "3bb77a1a-4238-42a0-d99a-03ed458e7b0f"
      },
      "execution_count": null,
      "outputs": [
        {
          "output_type": "execute_result",
          "data": {
            "text/plain": [
              "'Beltran Diaz'"
            ],
            "application/vnd.google.colaboratory.intrinsic+json": {
              "type": "string"
            }
          },
          "metadata": {},
          "execution_count": 20
        }
      ]
    },
    {
      "cell_type": "code",
      "source": [
        "edad"
      ],
      "metadata": {
        "colab": {
          "base_uri": "https://localhost:8080/"
        },
        "id": "it_Zyl35vAxI",
        "outputId": "27a335b1-b815-415a-ca2f-5dbfa2ee1a56"
      },
      "execution_count": null,
      "outputs": [
        {
          "output_type": "execute_result",
          "data": {
            "text/plain": [
              "32"
            ]
          },
          "metadata": {},
          "execution_count": 21
        }
      ]
    },
    {
      "cell_type": "code",
      "source": [
        "estado_civil"
      ],
      "metadata": {
        "colab": {
          "base_uri": "https://localhost:8080/",
          "height": 35
        },
        "id": "eOsOaS_fvCMa",
        "outputId": "ac268692-0c6f-4a67-ab06-4088b26927fb"
      },
      "execution_count": null,
      "outputs": [
        {
          "output_type": "execute_result",
          "data": {
            "text/plain": [
              "'Unión Libre'"
            ],
            "application/vnd.google.colaboratory.intrinsic+json": {
              "type": "string"
            }
          },
          "metadata": {},
          "execution_count": 22
        }
      ]
    },
    {
      "cell_type": "code",
      "source": [
        "#nombre de mi hijo que no tengo\n",
        "hijo_nombre=\"Pachito\"\n",
        "hijo_apellido=\"Mentiras\""
      ],
      "metadata": {
        "id": "2VDKf8Y5vD2N"
      },
      "execution_count": null,
      "outputs": []
    },
    {
      "cell_type": "code",
      "source": [
        "hijo_apellido"
      ],
      "metadata": {
        "colab": {
          "base_uri": "https://localhost:8080/",
          "height": 35
        },
        "id": "_qJG-shyvutb",
        "outputId": "53df4104-b825-4067-b354-3b4ac6961d14"
      },
      "execution_count": null,
      "outputs": [
        {
          "output_type": "execute_result",
          "data": {
            "text/plain": [
              "'Mentiras'"
            ],
            "application/vnd.google.colaboratory.intrinsic+json": {
              "type": "string"
            }
          },
          "metadata": {},
          "execution_count": 24
        }
      ]
    },
    {
      "cell_type": "code",
      "source": [
        "hijo_apellido=\"Verdades\""
      ],
      "metadata": {
        "id": "6QZ3gc0DvX1Z"
      },
      "execution_count": null,
      "outputs": []
    },
    {
      "cell_type": "code",
      "source": [
        "hijo_nombre"
      ],
      "metadata": {
        "colab": {
          "base_uri": "https://localhost:8080/",
          "height": 35
        },
        "id": "tQLQAxTbviiy",
        "outputId": "386675c0-f7e9-4066-d8d3-da123c9d735e"
      },
      "execution_count": null,
      "outputs": [
        {
          "output_type": "execute_result",
          "data": {
            "text/plain": [
              "'Pachito'"
            ],
            "application/vnd.google.colaboratory.intrinsic+json": {
              "type": "string"
            }
          },
          "metadata": {},
          "execution_count": 26
        }
      ]
    },
    {
      "cell_type": "code",
      "source": [
        "hijo_apellido"
      ],
      "metadata": {
        "colab": {
          "base_uri": "https://localhost:8080/",
          "height": 35
        },
        "id": "r0sD1npQvkky",
        "outputId": "75ab7ec9-7e9c-47ac-83c4-40e71c3b1d39"
      },
      "execution_count": null,
      "outputs": [
        {
          "output_type": "execute_result",
          "data": {
            "text/plain": [
              "'Verdades'"
            ],
            "application/vnd.google.colaboratory.intrinsic+json": {
              "type": "string"
            }
          },
          "metadata": {},
          "execution_count": 27
        }
      ]
    },
    {
      "cell_type": "code",
      "source": [
        "#Esta es una variable con un mensaje\n",
        "mensaje_1=\"Ahora que sé python Alexandra no me va a ganar\""
      ],
      "metadata": {
        "id": "EYHpCIKhvn59"
      },
      "execution_count": null,
      "outputs": []
    },
    {
      "cell_type": "code",
      "source": [
        "mensaje_1"
      ],
      "metadata": {
        "colab": {
          "base_uri": "https://localhost:8080/",
          "height": 35
        },
        "id": "5A6AgVzk1r1_",
        "outputId": "7bb8b56a-8cfb-43bd-b2c6-e82f0e781248"
      },
      "execution_count": null,
      "outputs": [
        {
          "output_type": "execute_result",
          "data": {
            "text/plain": [
              "'Ahora que sé python Alexandra no me va a ganar'"
            ],
            "application/vnd.google.colaboratory.intrinsic+json": {
              "type": "string"
            }
          },
          "metadata": {},
          "execution_count": 29
        }
      ]
    },
    {
      "cell_type": "code",
      "source": [
        "#Acá no solo guarde la variable si no que la mostré de una vez\n",
        "mensaje_2=\"Porque yo voy con toda\"\n",
        "mensaje_2"
      ],
      "metadata": {
        "colab": {
          "base_uri": "https://localhost:8080/",
          "height": 35
        },
        "id": "E-ZRh7Bm1uPO",
        "outputId": "5fa04a92-92c2-46ba-83c8-a1e680f4a9cb"
      },
      "execution_count": null,
      "outputs": [
        {
          "output_type": "execute_result",
          "data": {
            "text/plain": [
              "'Porque yo voy con toda'"
            ],
            "application/vnd.google.colaboratory.intrinsic+json": {
              "type": "string"
            }
          },
          "metadata": {},
          "execution_count": 30
        }
      ]
    },
    {
      "cell_type": "code",
      "source": [
        "#Así concateno en Python\n",
        "mensaje_1+mensaje_2"
      ],
      "metadata": {
        "colab": {
          "base_uri": "https://localhost:8080/",
          "height": 35
        },
        "id": "T4w9QOi818Dq",
        "outputId": "585542a5-82b0-4362-b4df-f15544808330"
      },
      "execution_count": null,
      "outputs": [
        {
          "output_type": "execute_result",
          "data": {
            "text/plain": [
              "'Ahora que sé python Alexandra no me va a ganarPorque yo voy con toda'"
            ],
            "application/vnd.google.colaboratory.intrinsic+json": {
              "type": "string"
            }
          },
          "metadata": {},
          "execution_count": 31
        }
      ]
    },
    {
      "cell_type": "code",
      "source": [
        "#Así declaro un espacio vacio\n",
        "espacio=\" \""
      ],
      "metadata": {
        "id": "qOp0NDyS2R19"
      },
      "execution_count": null,
      "outputs": []
    },
    {
      "cell_type": "code",
      "source": [
        "#Así concateno las variables\n",
        "mensaje_1+espacio+mensaje_2"
      ],
      "metadata": {
        "colab": {
          "base_uri": "https://localhost:8080/",
          "height": 35
        },
        "id": "CRH_dscs2hx2",
        "outputId": "8ef7a822-45d5-4271-eb26-e99371243b23"
      },
      "execution_count": null,
      "outputs": [
        {
          "output_type": "execute_result",
          "data": {
            "text/plain": [
              "'Ahora que sé python Alexandra no me va a ganar Porque yo voy con toda'"
            ],
            "application/vnd.google.colaboratory.intrinsic+json": {
              "type": "string"
            }
          },
          "metadata": {},
          "execution_count": 33
        }
      ]
    },
    {
      "cell_type": "code",
      "source": [
        "#Así guardo la concatenación dentro de una variable\n",
        "mensaje_completo=mensaje_1+espacio+mensaje_2\n",
        "mensaje_completo"
      ],
      "metadata": {
        "colab": {
          "base_uri": "https://localhost:8080/",
          "height": 35
        },
        "id": "2T2Sp-2T2rji",
        "outputId": "6225ef7d-7d20-44f3-f050-ee7de7b423c1"
      },
      "execution_count": null,
      "outputs": [
        {
          "output_type": "execute_result",
          "data": {
            "text/plain": [
              "'Ahora que sé python Alexandra no me va a ganar Porque yo voy con toda'"
            ],
            "application/vnd.google.colaboratory.intrinsic+json": {
              "type": "string"
            }
          },
          "metadata": {},
          "execution_count": 34
        }
      ]
    },
    {
      "cell_type": "markdown",
      "source": [
        "**Listas**, son tipos de datos mutables y ordenados, son las mas usadas al trabajar con datos, para declarar una lista uso los corchetes cuadrados[]"
      ],
      "metadata": {
        "id": "RNGN05Va4Awf"
      }
    },
    {
      "cell_type": "code",
      "source": [
        "#Listas: Las listas se definen como el siguiente ejemplo\n",
        "#datos=[\"Lorena\",\"Beltran\",\"Diaz\",32,\"Unión Libre\",1.60]\n",
        "paises=[\"Colombia\",\"Ecuador\",\"México\",\"China\",\"Francia\",\"Paraguay\"]\n",
        "paises"
      ],
      "metadata": {
        "colab": {
          "base_uri": "https://localhost:8080/"
        },
        "id": "qdKilXne4ZzE",
        "outputId": "1ebfbc1a-957a-4a0a-aa07-0302fe31f943"
      },
      "execution_count": null,
      "outputs": [
        {
          "output_type": "execute_result",
          "data": {
            "text/plain": [
              "['Colombia', 'Ecuador', 'México', 'China', 'Francia', 'Paraguay']"
            ]
          },
          "metadata": {},
          "execution_count": 35
        }
      ]
    },
    {
      "cell_type": "code",
      "source": [
        "#Las listas tienen indices automáticos, que se generan cuando creo la lista, sin embargo estos no son visibles hasta que los llamo\n",
        "paises[0]"
      ],
      "metadata": {
        "colab": {
          "base_uri": "https://localhost:8080/",
          "height": 35
        },
        "id": "lL4BnSgO4-Hn",
        "outputId": "919c4596-a6af-480a-a116-8e6dbf47b3b8"
      },
      "execution_count": null,
      "outputs": [
        {
          "output_type": "execute_result",
          "data": {
            "text/plain": [
              "'Colombia'"
            ],
            "application/vnd.google.colaboratory.intrinsic+json": {
              "type": "string"
            }
          },
          "metadata": {},
          "execution_count": 36
        }
      ]
    },
    {
      "cell_type": "code",
      "source": [
        "paises[-6]"
      ],
      "metadata": {
        "colab": {
          "base_uri": "https://localhost:8080/",
          "height": 35
        },
        "id": "xHLp_iUf5tT8",
        "outputId": "e3a5e086-fe7a-49a3-fefa-22e54a96086a"
      },
      "execution_count": null,
      "outputs": [
        {
          "output_type": "execute_result",
          "data": {
            "text/plain": [
              "'Colombia'"
            ],
            "application/vnd.google.colaboratory.intrinsic+json": {
              "type": "string"
            }
          },
          "metadata": {},
          "execution_count": 37
        }
      ]
    },
    {
      "cell_type": "code",
      "source": [
        "paises[3]"
      ],
      "metadata": {
        "colab": {
          "base_uri": "https://localhost:8080/",
          "height": 35
        },
        "id": "lJhKCfmL5yZl",
        "outputId": "071be165-a045-4d6f-bfb1-2456531ba627"
      },
      "execution_count": null,
      "outputs": [
        {
          "output_type": "execute_result",
          "data": {
            "text/plain": [
              "'China'"
            ],
            "application/vnd.google.colaboratory.intrinsic+json": {
              "type": "string"
            }
          },
          "metadata": {},
          "execution_count": 38
        }
      ]
    },
    {
      "cell_type": "code",
      "source": [
        "paises[-1]"
      ],
      "metadata": {
        "colab": {
          "base_uri": "https://localhost:8080/",
          "height": 35
        },
        "id": "HEmroY2O52YO",
        "outputId": "e1a120c2-79d7-4296-f089-2aad7cf2062b"
      },
      "execution_count": null,
      "outputs": [
        {
          "output_type": "execute_result",
          "data": {
            "text/plain": [
              "'Paraguay'"
            ],
            "application/vnd.google.colaboratory.intrinsic+json": {
              "type": "string"
            }
          },
          "metadata": {},
          "execution_count": 39
        }
      ]
    },
    {
      "cell_type": "code",
      "source": [
        "#Llamar a Francia desde la izquierda\n",
        "paises[4]"
      ],
      "metadata": {
        "colab": {
          "base_uri": "https://localhost:8080/",
          "height": 35
        },
        "id": "h4VP5t-U56zW",
        "outputId": "1b25eab9-1025-49d9-d258-e4d986e4dc0d"
      },
      "execution_count": null,
      "outputs": [
        {
          "output_type": "execute_result",
          "data": {
            "text/plain": [
              "'Francia'"
            ],
            "application/vnd.google.colaboratory.intrinsic+json": {
              "type": "string"
            }
          },
          "metadata": {},
          "execution_count": 40
        }
      ]
    },
    {
      "cell_type": "code",
      "source": [
        "#Llamar a Francia desde la derecha\n",
        "paises[-2]"
      ],
      "metadata": {
        "colab": {
          "base_uri": "https://localhost:8080/",
          "height": 35
        },
        "id": "98hajrIk6D3A",
        "outputId": "55056810-9879-4047-d98e-2d3b47567e35"
      },
      "execution_count": null,
      "outputs": [
        {
          "output_type": "execute_result",
          "data": {
            "text/plain": [
              "'Francia'"
            ],
            "application/vnd.google.colaboratory.intrinsic+json": {
              "type": "string"
            }
          },
          "metadata": {},
          "execution_count": 41
        }
      ]
    },
    {
      "cell_type": "code",
      "source": [
        "#La técnica de slicing me permite cortar pedazos de lista y cuadrarlos en una variable\n",
        "#Cortemos\n",
        "paises[1:3]"
      ],
      "metadata": {
        "colab": {
          "base_uri": "https://localhost:8080/"
        },
        "id": "nWl_AyUH6GeF",
        "outputId": "ed53ec70-8840-4518-95f4-a370e814dfc1"
      },
      "execution_count": null,
      "outputs": [
        {
          "output_type": "execute_result",
          "data": {
            "text/plain": [
              "['Ecuador', 'México']"
            ]
          },
          "metadata": {},
          "execution_count": 42
        }
      ]
    },
    {
      "cell_type": "code",
      "source": [
        "corte_paises=paises[1:3]\n",
        "corte_paises"
      ],
      "metadata": {
        "colab": {
          "base_uri": "https://localhost:8080/"
        },
        "id": "SbsMt7hB7Cyk",
        "outputId": "00e9626e-b723-4cfd-8863-d8ae061c822d"
      },
      "execution_count": null,
      "outputs": [
        {
          "output_type": "execute_result",
          "data": {
            "text/plain": [
              "['Ecuador', 'México']"
            ]
          },
          "metadata": {},
          "execution_count": 43
        }
      ]
    },
    {
      "cell_type": "code",
      "source": [
        "paises[1:]"
      ],
      "metadata": {
        "colab": {
          "base_uri": "https://localhost:8080/"
        },
        "id": "lueYOtso7IPw",
        "outputId": "2eb87199-5b29-42e3-b2df-ac5b08ef451f"
      },
      "execution_count": null,
      "outputs": [
        {
          "output_type": "execute_result",
          "data": {
            "text/plain": [
              "['Ecuador', 'México', 'China', 'Francia', 'Paraguay']"
            ]
          },
          "metadata": {},
          "execution_count": 44
        }
      ]
    },
    {
      "cell_type": "code",
      "source": [
        "paises[:5]"
      ],
      "metadata": {
        "colab": {
          "base_uri": "https://localhost:8080/"
        },
        "id": "PCaQbXIk7Tqp",
        "outputId": "f83b4412-104a-41e3-f6cf-f8f2a94c15eb"
      },
      "execution_count": null,
      "outputs": [
        {
          "output_type": "execute_result",
          "data": {
            "text/plain": [
              "['Colombia', 'Ecuador', 'México', 'China', 'Francia']"
            ]
          },
          "metadata": {},
          "execution_count": 45
        }
      ]
    },
    {
      "cell_type": "code",
      "source": [
        "#Así agrego elementos al final de ujna lista\n",
        "paises.append(\"RUSIA\")\n",
        "paises"
      ],
      "metadata": {
        "colab": {
          "base_uri": "https://localhost:8080/"
        },
        "id": "0VJysYho7oAL",
        "outputId": "ad0ce554-97ad-4cee-df8c-03207e6c1739"
      },
      "execution_count": null,
      "outputs": [
        {
          "output_type": "execute_result",
          "data": {
            "text/plain": [
              "['Colombia', 'Ecuador', 'México', 'China', 'Francia', 'Paraguay', 'RUSIA']"
            ]
          },
          "metadata": {},
          "execution_count": 46
        }
      ]
    },
    {
      "cell_type": "code",
      "source": [
        "#Para agregar un dato en la pposición de la lista que yo quiera uso insert\n",
        "paises.insert(0,\"Venezuela\")\n",
        "paises"
      ],
      "metadata": {
        "colab": {
          "base_uri": "https://localhost:8080/"
        },
        "id": "AdnbRDCv71kZ",
        "outputId": "0da4246d-107e-455f-90e5-aae243f5da81"
      },
      "execution_count": null,
      "outputs": [
        {
          "output_type": "execute_result",
          "data": {
            "text/plain": [
              "['Venezuela',\n",
              " 'Colombia',\n",
              " 'Ecuador',\n",
              " 'México',\n",
              " 'China',\n",
              " 'Francia',\n",
              " 'Paraguay',\n",
              " 'RUSIA']"
            ]
          },
          "metadata": {},
          "execution_count": 47
        }
      ]
    },
    {
      "cell_type": "code",
      "source": [
        "#También puedo concatenar listas\n",
        "paises_europa=[\"Italia\",\"Alemania\",\"España\",\"Portugal\",\"Polonia\"]\n",
        "paises_europa"
      ],
      "metadata": {
        "colab": {
          "base_uri": "https://localhost:8080/"
        },
        "id": "Qouqzi-n8Q1B",
        "outputId": "6d20fafc-b6d2-4cf6-c6cd-299a8ab3ee7a"
      },
      "execution_count": null,
      "outputs": [
        {
          "output_type": "execute_result",
          "data": {
            "text/plain": [
              "['Italia', 'Alemania', 'España', 'Portugal', 'Polonia']"
            ]
          },
          "metadata": {},
          "execution_count": 48
        }
      ]
    },
    {
      "cell_type": "code",
      "source": [
        "paises+paises_europa"
      ],
      "metadata": {
        "colab": {
          "base_uri": "https://localhost:8080/"
        },
        "id": "6MPepmO885K5",
        "outputId": "ed838609-c5bf-489f-936a-a25c5bf88335"
      },
      "execution_count": null,
      "outputs": [
        {
          "output_type": "execute_result",
          "data": {
            "text/plain": [
              "['Venezuela',\n",
              " 'Colombia',\n",
              " 'Ecuador',\n",
              " 'México',\n",
              " 'China',\n",
              " 'Francia',\n",
              " 'Paraguay',\n",
              " 'RUSIA',\n",
              " 'Italia',\n",
              " 'Alemania',\n",
              " 'España',\n",
              " 'Portugal',\n",
              " 'Polonia']"
            ]
          },
          "metadata": {},
          "execution_count": 49
        }
      ]
    },
    {
      "cell_type": "code",
      "source": [
        "paises_completos_lista=[paises,paises_europa]\n",
        "paises_completos_lista"
      ],
      "metadata": {
        "colab": {
          "base_uri": "https://localhost:8080/"
        },
        "id": "nwLGkp_C9LpM",
        "outputId": "29269a5b-de97-4a45-e7cc-9fa7e0c003be"
      },
      "execution_count": null,
      "outputs": [
        {
          "output_type": "execute_result",
          "data": {
            "text/plain": [
              "[['Venezuela',\n",
              "  'Colombia',\n",
              "  'Ecuador',\n",
              "  'México',\n",
              "  'China',\n",
              "  'Francia',\n",
              "  'Paraguay',\n",
              "  'RUSIA'],\n",
              " ['Italia', 'Alemania', 'España', 'Portugal', 'Polonia']]"
            ]
          },
          "metadata": {},
          "execution_count": 50
        }
      ]
    },
    {
      "cell_type": "code",
      "source": [
        "#Esta función me sirve para tomar datos del usuario\n",
        "edad_1=input(\"Hola, que te parece si antes de apostar tu casa, vemos si eres mayor de edad, ingresa tu edad: \")"
      ],
      "metadata": {
        "colab": {
          "base_uri": "https://localhost:8080/"
        },
        "id": "sr0Ar4N7Kfus",
        "outputId": "04a592b2-9a65-472f-b505-818712680640"
      },
      "execution_count": null,
      "outputs": [
        {
          "name": "stdout",
          "output_type": "stream",
          "text": [
            "Hola, que te parece si antes de apostar tu casa, vemos si eres mayor de edad, ingresa tu edad: 12\n"
          ]
        }
      ]
    },
    {
      "cell_type": "code",
      "source": [
        "nombre_1=input(\"Ingresa tu nombre\")\n",
        "print(\"La verdad hoy estas terrible\",nombre_1)"
      ],
      "metadata": {
        "colab": {
          "base_uri": "https://localhost:8080/"
        },
        "id": "PJkaYfavK3GF",
        "outputId": "64912cbc-b091-4f0e-8afc-ea558f113538"
      },
      "execution_count": null,
      "outputs": [
        {
          "output_type": "stream",
          "name": "stdout",
          "text": [
            "Ingresa tu nombrelorena\n",
            "La verdad hoy estas terrible lorena\n"
          ]
        }
      ]
    },
    {
      "cell_type": "markdown",
      "source": [
        "**Ejercicio 01-10-2024**"
      ],
      "metadata": {
        "id": "BcIuy1BGC1Ql"
      }
    },
    {
      "cell_type": "code",
      "source": [
        "Datos_personales=[\"Lorena\"]\n",
        "Datos_personales"
      ],
      "metadata": {
        "colab": {
          "base_uri": "https://localhost:8080/"
        },
        "id": "tx4uhrk5Buib",
        "outputId": "bd6111e7-fdce-4121-f02a-bd2f66927612"
      },
      "execution_count": null,
      "outputs": [
        {
          "output_type": "execute_result",
          "data": {
            "text/plain": [
              "['Lorena']"
            ]
          },
          "metadata": {},
          "execution_count": 53
        }
      ]
    },
    {
      "cell_type": "code",
      "source": [
        "Datos_personales.append(\"Beltran Diaz\")\n",
        "Datos_personales"
      ],
      "metadata": {
        "colab": {
          "base_uri": "https://localhost:8080/"
        },
        "id": "36kPV0KZCDMj",
        "outputId": "31c63922-44da-4bc2-8ade-e66617912267"
      },
      "execution_count": null,
      "outputs": [
        {
          "output_type": "execute_result",
          "data": {
            "text/plain": [
              "['Lorena', 'Beltran Diaz']"
            ]
          },
          "metadata": {},
          "execution_count": 54
        }
      ]
    },
    {
      "cell_type": "code",
      "source": [
        "Datos_personales.append(32)\n",
        "Datos_personales"
      ],
      "metadata": {
        "colab": {
          "base_uri": "https://localhost:8080/"
        },
        "id": "tNyTySy6CKWF",
        "outputId": "acb7ceb3-d0ed-4f6d-de92-03f7abb3ef77"
      },
      "execution_count": null,
      "outputs": [
        {
          "output_type": "execute_result",
          "data": {
            "text/plain": [
              "['Lorena', 'Beltran Diaz', 32]"
            ]
          },
          "metadata": {},
          "execution_count": 55
        }
      ]
    },
    {
      "cell_type": "code",
      "source": [
        "Datos_personales.append(1013637664)\n",
        "Datos_personales"
      ],
      "metadata": {
        "colab": {
          "base_uri": "https://localhost:8080/"
        },
        "id": "4x8wUwaHCX95",
        "outputId": "f8c8239e-86ce-4aed-bb3d-833d3d053e9b"
      },
      "execution_count": null,
      "outputs": [
        {
          "output_type": "execute_result",
          "data": {
            "text/plain": [
              "['Lorena', 'Beltran Diaz', 32, 1013637664]"
            ]
          },
          "metadata": {},
          "execution_count": 56
        }
      ]
    },
    {
      "cell_type": "code",
      "source": [
        "Datos_personales.append(\"Unión Libre\")\n",
        "Datos_personales"
      ],
      "metadata": {
        "colab": {
          "base_uri": "https://localhost:8080/"
        },
        "id": "Q8lj6AygCdRP",
        "outputId": "f3cfe95e-e1ba-4153-f384-7e6e67af6999"
      },
      "execution_count": null,
      "outputs": [
        {
          "output_type": "execute_result",
          "data": {
            "text/plain": [
              "['Lorena', 'Beltran Diaz', 32, 1013637664, 'Unión Libre']"
            ]
          },
          "metadata": {},
          "execution_count": 57
        }
      ]
    },
    {
      "cell_type": "code",
      "source": [
        "Datos_personales.append(1.67)\n",
        "Datos_personales"
      ],
      "metadata": {
        "colab": {
          "base_uri": "https://localhost:8080/"
        },
        "id": "j1QrVCxrCkmT",
        "outputId": "900b007f-0178-4f1a-b5f0-af40bbbef994"
      },
      "execution_count": null,
      "outputs": [
        {
          "output_type": "execute_result",
          "data": {
            "text/plain": [
              "['Lorena', 'Beltran Diaz', 32, 1013637664, 'Unión Libre', 1.67]"
            ]
          },
          "metadata": {},
          "execution_count": 58
        }
      ]
    },
    {
      "cell_type": "code",
      "source": [
        "Familiares=[]\n",
        "Familiares"
      ],
      "metadata": {
        "colab": {
          "base_uri": "https://localhost:8080/"
        },
        "id": "CueE0NqRCqd2",
        "outputId": "fcea91e0-0f85-4b5e-f2ec-e988293f82d2"
      },
      "execution_count": null,
      "outputs": [
        {
          "output_type": "execute_result",
          "data": {
            "text/plain": [
              "[]"
            ]
          },
          "metadata": {},
          "execution_count": 59
        }
      ]
    },
    {
      "cell_type": "code",
      "source": [
        "Familiares.append(\"Maria\")\n",
        "Familiares"
      ],
      "metadata": {
        "colab": {
          "base_uri": "https://localhost:8080/"
        },
        "id": "c6Bzqvl0EEJ1",
        "outputId": "f15224ee-a0fa-4ee8-f509-878b80718c49"
      },
      "execution_count": null,
      "outputs": [
        {
          "output_type": "execute_result",
          "data": {
            "text/plain": [
              "['Maria']"
            ]
          },
          "metadata": {},
          "execution_count": 60
        }
      ]
    },
    {
      "cell_type": "code",
      "source": [
        "Familiares.append(\"Jose\")\n",
        "Familiares"
      ],
      "metadata": {
        "colab": {
          "base_uri": "https://localhost:8080/"
        },
        "id": "JV-2VkWBEKws",
        "outputId": "aa3714a5-dc39-43dc-9463-0f40a8507826"
      },
      "execution_count": null,
      "outputs": [
        {
          "output_type": "execute_result",
          "data": {
            "text/plain": [
              "['Maria', 'Jose']"
            ]
          },
          "metadata": {},
          "execution_count": 61
        }
      ]
    },
    {
      "cell_type": "code",
      "source": [
        "Familiares.append(\"Thomas\")\n",
        "Familiares"
      ],
      "metadata": {
        "colab": {
          "base_uri": "https://localhost:8080/"
        },
        "id": "ZNdyiakIEZ0X",
        "outputId": "614e51d8-107d-4518-ab70-d4cf1435b818"
      },
      "execution_count": null,
      "outputs": [
        {
          "output_type": "execute_result",
          "data": {
            "text/plain": [
              "['Maria', 'Jose', 'Thomas']"
            ]
          },
          "metadata": {},
          "execution_count": 62
        }
      ]
    },
    {
      "cell_type": "code",
      "source": [
        "Familiares.append(\"Lorena\")\n",
        "Familiares"
      ],
      "metadata": {
        "colab": {
          "base_uri": "https://localhost:8080/"
        },
        "id": "EX4CYcYDEnpK",
        "outputId": "25e6ad2d-8668-417e-e9f9-c1473f59f3be"
      },
      "execution_count": null,
      "outputs": [
        {
          "output_type": "execute_result",
          "data": {
            "text/plain": [
              "['Maria', 'Jose', 'Thomas', 'Lorena']"
            ]
          },
          "metadata": {},
          "execution_count": 63
        }
      ]
    },
    {
      "cell_type": "code",
      "source": [
        "Familiares.append(\"Annie\")\n",
        "Familiares\n"
      ],
      "metadata": {
        "colab": {
          "base_uri": "https://localhost:8080/"
        },
        "id": "Q09H4q71Hyef",
        "outputId": "37195838-47f4-4ce0-e3df-e07ca6f316ab"
      },
      "execution_count": null,
      "outputs": [
        {
          "output_type": "execute_result",
          "data": {
            "text/plain": [
              "['Maria', 'Jose', 'Thomas', 'Lorena', 'Annie']"
            ]
          },
          "metadata": {},
          "execution_count": 64
        }
      ]
    },
    {
      "cell_type": "code",
      "source": [
        "Familiares.insert(1,40)\n",
        "Familiares"
      ],
      "metadata": {
        "colab": {
          "base_uri": "https://localhost:8080/"
        },
        "id": "IchxYjEYGngu",
        "outputId": "e01da414-ff60-46b0-866f-c90cb1fb0e60"
      },
      "execution_count": null,
      "outputs": [
        {
          "output_type": "execute_result",
          "data": {
            "text/plain": [
              "['Maria', 40, 'Jose', 'Thomas', 'Lorena', 'Annie']"
            ]
          },
          "metadata": {},
          "execution_count": 65
        }
      ]
    },
    {
      "cell_type": "code",
      "source": [
        "Familiares.insert(3,38)\n",
        "Familiares"
      ],
      "metadata": {
        "colab": {
          "base_uri": "https://localhost:8080/"
        },
        "id": "I8q4KeuYHBla",
        "outputId": "239b2986-99e1-4f93-cac6-9edd7a937478"
      },
      "execution_count": null,
      "outputs": [
        {
          "output_type": "execute_result",
          "data": {
            "text/plain": [
              "['Maria', 40, 'Jose', 38, 'Thomas', 'Lorena', 'Annie']"
            ]
          },
          "metadata": {},
          "execution_count": 66
        }
      ]
    },
    {
      "cell_type": "code",
      "source": [
        "Familiares.insert(5,25)\n",
        "Familiares"
      ],
      "metadata": {
        "colab": {
          "base_uri": "https://localhost:8080/"
        },
        "id": "XcOp9e1jHJ5U",
        "outputId": "cab7b489-5be3-4194-bf67-bea4756d4ca9"
      },
      "execution_count": null,
      "outputs": [
        {
          "output_type": "execute_result",
          "data": {
            "text/plain": [
              "['Maria', 40, 'Jose', 38, 'Thomas', 25, 'Lorena', 'Annie']"
            ]
          },
          "metadata": {},
          "execution_count": 67
        }
      ]
    },
    {
      "cell_type": "code",
      "source": [
        "Familiares.insert(7,30)\n",
        "Familiares"
      ],
      "metadata": {
        "colab": {
          "base_uri": "https://localhost:8080/"
        },
        "id": "DRPVMXWOHOHf",
        "outputId": "e4225a03-11fc-4333-850e-9e043b6370a9"
      },
      "execution_count": null,
      "outputs": [
        {
          "output_type": "execute_result",
          "data": {
            "text/plain": [
              "['Maria', 40, 'Jose', 38, 'Thomas', 25, 'Lorena', 30, 'Annie']"
            ]
          },
          "metadata": {},
          "execution_count": 68
        }
      ]
    },
    {
      "cell_type": "code",
      "source": [
        "Familiares.insert(9,32)\n",
        "Familiares"
      ],
      "metadata": {
        "colab": {
          "base_uri": "https://localhost:8080/"
        },
        "id": "1tZIrnjyHRny",
        "outputId": "265cf8eb-f7bf-4fa9-cc01-63f087b42659"
      },
      "execution_count": null,
      "outputs": [
        {
          "output_type": "execute_result",
          "data": {
            "text/plain": [
              "['Maria', 40, 'Jose', 38, 'Thomas', 25, 'Lorena', 30, 'Annie', 32]"
            ]
          },
          "metadata": {},
          "execution_count": 69
        }
      ]
    },
    {
      "cell_type": "code",
      "source": [
        "paises"
      ],
      "metadata": {
        "id": "u3z5WL1rHjOQ",
        "colab": {
          "base_uri": "https://localhost:8080/"
        },
        "outputId": "c2991326-af2b-46ed-e393-1f9e9d262ae4"
      },
      "execution_count": null,
      "outputs": [
        {
          "output_type": "execute_result",
          "data": {
            "text/plain": [
              "['Venezuela',\n",
              " 'Colombia',\n",
              " 'Ecuador',\n",
              " 'México',\n",
              " 'China',\n",
              " 'Francia',\n",
              " 'Paraguay',\n",
              " 'RUSIA']"
            ]
          },
          "metadata": {},
          "execution_count": 70
        }
      ]
    },
    {
      "cell_type": "code",
      "source": [
        "#Para remover datos de las listas utilizo el metodo remove\n",
        "paises.remove(\"RUSIA\")\n",
        "paises"
      ],
      "metadata": {
        "colab": {
          "base_uri": "https://localhost:8080/"
        },
        "id": "XiXDm-mmLjKO",
        "outputId": "026f6703-c23c-4ca9-cd28-82038d4e04c9"
      },
      "execution_count": null,
      "outputs": [
        {
          "output_type": "execute_result",
          "data": {
            "text/plain": [
              "['Venezuela', 'Colombia', 'Ecuador', 'México', 'China', 'Francia', 'Paraguay']"
            ]
          },
          "metadata": {},
          "execution_count": 71
        }
      ]
    },
    {
      "cell_type": "code",
      "source": [
        "#Otro metodo para eliminar es el metodo pop, este me permite eliminar por posición\n",
        "paises.pop(4)"
      ],
      "metadata": {
        "colab": {
          "base_uri": "https://localhost:8080/",
          "height": 35
        },
        "id": "TgehuK5mLyEV",
        "outputId": "5cc781f4-4722-4e71-c74c-17d8c4b24b5a"
      },
      "execution_count": null,
      "outputs": [
        {
          "output_type": "execute_result",
          "data": {
            "text/plain": [
              "'China'"
            ],
            "application/vnd.google.colaboratory.intrinsic+json": {
              "type": "string"
            }
          },
          "metadata": {},
          "execution_count": 72
        }
      ]
    },
    {
      "cell_type": "code",
      "source": [
        "paises"
      ],
      "metadata": {
        "colab": {
          "base_uri": "https://localhost:8080/"
        },
        "id": "JC5UiIuJMG_f",
        "outputId": "37ca0c7b-31ec-4f6a-b8af-e20a629abbd0"
      },
      "execution_count": null,
      "outputs": [
        {
          "output_type": "execute_result",
          "data": {
            "text/plain": [
              "['Venezuela', 'Colombia', 'Ecuador', 'México', 'Francia', 'Paraguay']"
            ]
          },
          "metadata": {},
          "execution_count": 73
        }
      ]
    },
    {
      "cell_type": "code",
      "source": [
        "#Para eliminar definitivamente se usa del\n",
        "del paises[4]"
      ],
      "metadata": {
        "id": "Tq24iFa1MIa4"
      },
      "execution_count": null,
      "outputs": []
    },
    {
      "cell_type": "code",
      "source": [
        "paises"
      ],
      "metadata": {
        "colab": {
          "base_uri": "https://localhost:8080/"
        },
        "id": "7ShBo0a5Mf-H",
        "outputId": "a2345f39-3dd1-4861-bcd7-4f990923151c"
      },
      "execution_count": null,
      "outputs": [
        {
          "output_type": "execute_result",
          "data": {
            "text/plain": [
              "['Venezuela', 'Colombia', 'Ecuador', 'México', 'Paraguay']"
            ]
          },
          "metadata": {},
          "execution_count": 75
        }
      ]
    },
    {
      "cell_type": "code",
      "source": [
        "#Ordenar las listas, las puedo ordenar de mayor a menor o alfabeticamente, con el metodo sort\n",
        "paises.sort()\n",
        "paises"
      ],
      "metadata": {
        "colab": {
          "base_uri": "https://localhost:8080/"
        },
        "id": "WHJNr75TMjLL",
        "outputId": "210672e0-42dc-4fba-93d4-e645f57b3be2"
      },
      "execution_count": null,
      "outputs": [
        {
          "output_type": "execute_result",
          "data": {
            "text/plain": [
              "['Colombia', 'Ecuador', 'México', 'Paraguay', 'Venezuela']"
            ]
          },
          "metadata": {},
          "execution_count": 76
        }
      ]
    },
    {
      "cell_type": "code",
      "source": [
        "dígitos=[2,4,5,1,6,0,3,8,9,7]\n",
        "dígitos.sort()\n",
        "dígitos"
      ],
      "metadata": {
        "colab": {
          "base_uri": "https://localhost:8080/"
        },
        "id": "7nHdk1kTOdyI",
        "outputId": "0a8b2b37-85b7-450c-b5d7-5e1ac1a52396"
      },
      "execution_count": null,
      "outputs": [
        {
          "output_type": "execute_result",
          "data": {
            "text/plain": [
              "[0, 1, 2, 3, 4, 5, 6, 7, 8, 9]"
            ]
          },
          "metadata": {},
          "execution_count": 77
        }
      ]
    },
    {
      "cell_type": "code",
      "source": [
        "dígitos.sort(reverse=True)\n",
        "dígitos"
      ],
      "metadata": {
        "colab": {
          "base_uri": "https://localhost:8080/"
        },
        "id": "C_n0ZiLfOsAF",
        "outputId": "39961923-7c03-4057-fe96-b4c512b50062"
      },
      "execution_count": null,
      "outputs": [
        {
          "output_type": "execute_result",
          "data": {
            "text/plain": [
              "[9, 8, 7, 6, 5, 4, 3, 2, 1, 0]"
            ]
          },
          "metadata": {},
          "execution_count": 78
        }
      ]
    },
    {
      "cell_type": "code",
      "source": [
        "paises.sort(reverse=True)\n",
        "paises"
      ],
      "metadata": {
        "colab": {
          "base_uri": "https://localhost:8080/"
        },
        "id": "Bc8AJ8h5O9Tz",
        "outputId": "4c1b3dd0-32d9-4645-f2ee-0c08f37736cb"
      },
      "execution_count": null,
      "outputs": [
        {
          "output_type": "execute_result",
          "data": {
            "text/plain": [
              "['Venezuela', 'Paraguay', 'México', 'Ecuador', 'Colombia']"
            ]
          },
          "metadata": {},
          "execution_count": 79
        }
      ]
    },
    {
      "cell_type": "code",
      "source": [
        "paises_copia_verdadera=paises.copy()\n",
        "paises_copia_verdadera"
      ],
      "metadata": {
        "colab": {
          "base_uri": "https://localhost:8080/"
        },
        "id": "FK3c85wPPD1Y",
        "outputId": "3cce8772-b519-44bd-ff66-d61d0dd5b079"
      },
      "execution_count": null,
      "outputs": [
        {
          "output_type": "execute_result",
          "data": {
            "text/plain": [
              "['Venezuela', 'Paraguay', 'México', 'Ecuador', 'Colombia']"
            ]
          },
          "metadata": {},
          "execution_count": 80
        }
      ]
    },
    {
      "cell_type": "code",
      "source": [
        "paises_copia_verdadera_2=paises[:]\n",
        "paises_copia_verdadera_2"
      ],
      "metadata": {
        "colab": {
          "base_uri": "https://localhost:8080/"
        },
        "id": "CbvWlE7bPx9X",
        "outputId": "70e6f6a9-381d-4ac0-a8ce-6e33b12d3d91"
      },
      "execution_count": null,
      "outputs": [
        {
          "output_type": "execute_result",
          "data": {
            "text/plain": [
              "['Venezuela', 'Paraguay', 'México', 'Ecuador', 'Colombia']"
            ]
          },
          "metadata": {},
          "execution_count": 81
        }
      ]
    },
    {
      "cell_type": "markdown",
      "source": [
        "**Diccionarios:** Son tipos de datos que tienen una llave y un valor, a la combinación de llave con valor, se le conoce como items, en los diccionarios puedo usar métodos parecidos a los de las listas"
      ],
      "metadata": {
        "id": "pq4iGQUPQJ0D"
      }
    },
    {
      "cell_type": "code",
      "source": [
        "diccionario_ing_esp={\"casa\":\"house\",\"entender\":\"understand\",\"sediento\":\"thirsty\",\"rojo\":\"red\",\"ocupado\":\"bussy\"}\n",
        "diccionario_ing_esp"
      ],
      "metadata": {
        "colab": {
          "base_uri": "https://localhost:8080/"
        },
        "id": "k6JkmpKBP561",
        "outputId": "26b46a8e-9531-4d9e-b665-72bc7b84dd78"
      },
      "execution_count": null,
      "outputs": [
        {
          "output_type": "execute_result",
          "data": {
            "text/plain": [
              "{'casa': 'house',\n",
              " 'entender': 'understand',\n",
              " 'sediento': 'thirsty',\n",
              " 'rojo': 'red',\n",
              " 'ocupado': 'bussy'}"
            ]
          },
          "metadata": {},
          "execution_count": 82
        }
      ]
    },
    {
      "cell_type": "code",
      "source": [
        "#Para ver un valor de una llave determinada lo hago de la siguiente manera\n",
        "diccionario_ing_esp['casa']"
      ],
      "metadata": {
        "colab": {
          "base_uri": "https://localhost:8080/",
          "height": 35
        },
        "id": "J7SU7UlbSAjT",
        "outputId": "e3a7f421-9193-4091-dbd8-ec17d962a327"
      },
      "execution_count": null,
      "outputs": [
        {
          "output_type": "execute_result",
          "data": {
            "text/plain": [
              "'house'"
            ],
            "application/vnd.google.colaboratory.intrinsic+json": {
              "type": "string"
            }
          },
          "metadata": {},
          "execution_count": 83
        }
      ]
    },
    {
      "cell_type": "code",
      "source": [
        "#Para traer todas las llaves de un diccionario, puedo usar el método keys\n",
        "diccionario_ing_esp.keys()"
      ],
      "metadata": {
        "colab": {
          "base_uri": "https://localhost:8080/"
        },
        "id": "WYJRfViVSXQh",
        "outputId": "9bec2b08-7c68-41ec-e493-b0536ac76337"
      },
      "execution_count": null,
      "outputs": [
        {
          "output_type": "execute_result",
          "data": {
            "text/plain": [
              "dict_keys(['casa', 'entender', 'sediento', 'rojo', 'ocupado'])"
            ]
          },
          "metadata": {},
          "execution_count": 84
        }
      ]
    },
    {
      "cell_type": "code",
      "source": [
        "#Para traer los valores de los diccionarios uso values\n",
        "diccionario_ing_esp.values()"
      ],
      "metadata": {
        "colab": {
          "base_uri": "https://localhost:8080/"
        },
        "id": "cezB1NY5Sg5s",
        "outputId": "2199d1e1-6d09-4bed-9a53-219990a3b850"
      },
      "execution_count": null,
      "outputs": [
        {
          "output_type": "execute_result",
          "data": {
            "text/plain": [
              "dict_values(['house', 'understand', 'thirsty', 'red', 'bussy'])"
            ]
          },
          "metadata": {},
          "execution_count": 85
        }
      ]
    },
    {
      "cell_type": "code",
      "source": [
        "#Para mostrar todo el diccionario\n",
        "diccionario_ing_esp"
      ],
      "metadata": {
        "colab": {
          "base_uri": "https://localhost:8080/"
        },
        "id": "V6fpkq9SS1qV",
        "outputId": "57436b44-8f90-4d25-a9d2-1c1dd4979e0d"
      },
      "execution_count": null,
      "outputs": [
        {
          "output_type": "execute_result",
          "data": {
            "text/plain": [
              "{'casa': 'house',\n",
              " 'entender': 'understand',\n",
              " 'sediento': 'thirsty',\n",
              " 'rojo': 'red',\n",
              " 'ocupado': 'bussy'}"
            ]
          },
          "metadata": {},
          "execution_count": 86
        }
      ]
    },
    {
      "cell_type": "code",
      "source": [
        "diccionario_ing_esp.items()"
      ],
      "metadata": {
        "colab": {
          "base_uri": "https://localhost:8080/"
        },
        "id": "QLG2JKe_S61q",
        "outputId": "bb125bae-0b7d-4422-ba9b-b4ef97f53ef4"
      },
      "execution_count": null,
      "outputs": [
        {
          "output_type": "execute_result",
          "data": {
            "text/plain": [
              "dict_items([('casa', 'house'), ('entender', 'understand'), ('sediento', 'thirsty'), ('rojo', 'red'), ('ocupado', 'bussy')])"
            ]
          },
          "metadata": {},
          "execution_count": 87
        }
      ]
    },
    {
      "cell_type": "code",
      "source": [
        "type(diccionario_ing_esp)"
      ],
      "metadata": {
        "colab": {
          "base_uri": "https://localhost:8080/"
        },
        "id": "tA3XDPWlS-pS",
        "outputId": "190f34aa-535b-4163-b6be-3d85dfd74986"
      },
      "execution_count": null,
      "outputs": [
        {
          "output_type": "execute_result",
          "data": {
            "text/plain": [
              "dict"
            ]
          },
          "metadata": {},
          "execution_count": 88
        }
      ]
    },
    {
      "cell_type": "code",
      "source": [
        "#para agregar un nuevo elemento a un diccionario, lo hago de la siguiente manera\n",
        "diccionario_ing_esp[\"azul\"]=\"blue\"\n",
        "diccionario_ing_esp"
      ],
      "metadata": {
        "colab": {
          "base_uri": "https://localhost:8080/"
        },
        "id": "NLU5xrm2TKiR",
        "outputId": "52bd9dcf-8ed4-44f8-f0b1-101d7269d0aa"
      },
      "execution_count": null,
      "outputs": [
        {
          "output_type": "execute_result",
          "data": {
            "text/plain": [
              "{'casa': 'house',\n",
              " 'entender': 'understand',\n",
              " 'sediento': 'thirsty',\n",
              " 'rojo': 'red',\n",
              " 'ocupado': 'bussy',\n",
              " 'azul': 'blue'}"
            ]
          },
          "metadata": {},
          "execution_count": 89
        }
      ]
    },
    {
      "cell_type": "code",
      "source": [
        "#Para actualizar un dato uso el update\n",
        "diccionario_ing_esp.update({\"negro\":\"black\"})\n",
        "diccionario_ing_esp"
      ],
      "metadata": {
        "colab": {
          "base_uri": "https://localhost:8080/"
        },
        "id": "0ewfpFvrTfSV",
        "outputId": "c975920f-860a-4c9d-90c1-08b68672a6d3"
      },
      "execution_count": null,
      "outputs": [
        {
          "output_type": "execute_result",
          "data": {
            "text/plain": [
              "{'casa': 'house',\n",
              " 'entender': 'understand',\n",
              " 'sediento': 'thirsty',\n",
              " 'rojo': 'red',\n",
              " 'ocupado': 'bussy',\n",
              " 'azul': 'blue',\n",
              " 'negro': 'black'}"
            ]
          },
          "metadata": {},
          "execution_count": 90
        }
      ]
    },
    {
      "cell_type": "code",
      "source": [
        "#También puedo agregar una lista dentro de un diccionario\n",
        "diccionario_ing_esp.update({\"gris\":\"grey\",\"pronombres\":[\"he\",\"she\",\"it\"]})\n",
        "diccionario_ing_esp"
      ],
      "metadata": {
        "colab": {
          "base_uri": "https://localhost:8080/"
        },
        "id": "m8O5oO7GT1OO",
        "outputId": "72195788-52ac-48c1-e174-bb90d7639160"
      },
      "execution_count": null,
      "outputs": [
        {
          "output_type": "execute_result",
          "data": {
            "text/plain": [
              "{'casa': 'house',\n",
              " 'entender': 'understand',\n",
              " 'sediento': 'thirsty',\n",
              " 'rojo': 'red',\n",
              " 'ocupado': 'bussy',\n",
              " 'azul': 'blue',\n",
              " 'negro': 'black',\n",
              " 'gris': 'grey',\n",
              " 'pronombres': ['he', 'she', 'it']}"
            ]
          },
          "metadata": {},
          "execution_count": 91
        }
      ]
    },
    {
      "cell_type": "code",
      "source": [
        "#Para borrar datos uso el método pop\n",
        "diccionario_ing_esp.pop(\"gris\")\n",
        "diccionario_ing_esp"
      ],
      "metadata": {
        "colab": {
          "base_uri": "https://localhost:8080/"
        },
        "id": "Ozk9Juz7UzM1",
        "outputId": "fb94a0a5-1df7-4230-b25d-263b5b26ebfa"
      },
      "execution_count": null,
      "outputs": [
        {
          "output_type": "execute_result",
          "data": {
            "text/plain": [
              "{'casa': 'house',\n",
              " 'entender': 'understand',\n",
              " 'sediento': 'thirsty',\n",
              " 'rojo': 'red',\n",
              " 'ocupado': 'bussy',\n",
              " 'azul': 'blue',\n",
              " 'negro': 'black',\n",
              " 'pronombres': ['he', 'she', 'it']}"
            ]
          },
          "metadata": {},
          "execution_count": 92
        }
      ]
    },
    {
      "cell_type": "code",
      "source": [
        "#Para eliminar del diccionario podemos usar también del\n",
        "del diccionario_ing_esp[\"pronombres\"]\n",
        "diccionario_ing_esp"
      ],
      "metadata": {
        "colab": {
          "base_uri": "https://localhost:8080/"
        },
        "id": "efXZQkh2V3m1",
        "outputId": "0501f54a-91f8-4ca7-ce1f-f32f0666d2e7"
      },
      "execution_count": null,
      "outputs": [
        {
          "output_type": "execute_result",
          "data": {
            "text/plain": [
              "{'casa': 'house',\n",
              " 'entender': 'understand',\n",
              " 'sediento': 'thirsty',\n",
              " 'rojo': 'red',\n",
              " 'ocupado': 'bussy',\n",
              " 'azul': 'blue',\n",
              " 'negro': 'black'}"
            ]
          },
          "metadata": {},
          "execution_count": 93
        }
      ]
    },
    {
      "cell_type": "markdown",
      "source": [
        "Operadores lógicos se usan para comprobar condiciones y devolver True o False, dependiendo cual sea el caso, son escenciales para la toma de decisiones y para la creación de la lógica de programación"
      ],
      "metadata": {
        "id": "to67XuRPbhwx"
      }
    },
    {
      "cell_type": "code",
      "source": [
        "#El primero es and que traduce y\n",
        "print(\"operador and (que significa y)\")\n",
        "print(\"Para que y sea verdadero todas las condiciones deben ser verdaderas\")\n",
        "5>3 and 5<10"
      ],
      "metadata": {
        "colab": {
          "base_uri": "https://localhost:8080/"
        },
        "id": "cG9OniGYWCMI",
        "outputId": "32dc4ac0-6ddd-427f-ccd8-588c93aad3cf"
      },
      "execution_count": null,
      "outputs": [
        {
          "output_type": "stream",
          "name": "stdout",
          "text": [
            "operador and (que significa y)\n",
            "Para que y sea verdadero todas las condiciones deben ser verdaderas\n"
          ]
        },
        {
          "output_type": "execute_result",
          "data": {
            "text/plain": [
              "True"
            ]
          },
          "metadata": {},
          "execution_count": 94
        }
      ]
    },
    {
      "cell_type": "code",
      "source": [
        "5<3 and 5<10"
      ],
      "metadata": {
        "colab": {
          "base_uri": "https://localhost:8080/"
        },
        "id": "FoR-o49wcQme",
        "outputId": "8f661dbc-3b42-434d-f51a-c5ab4c4d0405"
      },
      "execution_count": null,
      "outputs": [
        {
          "output_type": "execute_result",
          "data": {
            "text/plain": [
              "False"
            ]
          },
          "metadata": {},
          "execution_count": 95
        }
      ]
    },
    {
      "cell_type": "code",
      "source": [
        "#Para usar o, se usa la palabra reservada or, en or por lo menos una de las condiciones debe ser verdadera\n",
        "5<3 or 5<10"
      ],
      "metadata": {
        "colab": {
          "base_uri": "https://localhost:8080/"
        },
        "id": "wrX2O4Woccnx",
        "outputId": "5d86bac5-9d24-46c0-fffb-895b57c457ca"
      },
      "execution_count": null,
      "outputs": [
        {
          "output_type": "execute_result",
          "data": {
            "text/plain": [
              "True"
            ]
          },
          "metadata": {},
          "execution_count": 96
        }
      ]
    },
    {
      "cell_type": "code",
      "source": [
        "#Existe otro operador lógico que es NOT\n",
        "# not\n",
        "print(\"operador NOT (negación lógica)\")\n",
        "not 5>3"
      ],
      "metadata": {
        "colab": {
          "base_uri": "https://localhost:8080/"
        },
        "id": "MMOQZ3VHc1Ct",
        "outputId": "26c82967-1281-4ac5-a8c6-24b548153c46"
      },
      "execution_count": null,
      "outputs": [
        {
          "output_type": "stream",
          "name": "stdout",
          "text": [
            "operador NOT (negación lógica)\n"
          ]
        },
        {
          "output_type": "execute_result",
          "data": {
            "text/plain": [
              "False"
            ]
          },
          "metadata": {},
          "execution_count": 97
        }
      ]
    },
    {
      "cell_type": "markdown",
      "source": [
        "Operaciones matematicas, en este momento solo usaremos las más basicas, que son las escenciales para cualquier lenguaje de programación, suma, resta, multiplicación, división, potenciación y modulo"
      ],
      "metadata": {
        "id": "UFZI6XuGdqQ-"
      }
    },
    {
      "cell_type": "code",
      "source": [
        "#Suma se representa con el simbolo + y me sirve también para concatenar\n",
        "6+5"
      ],
      "metadata": {
        "colab": {
          "base_uri": "https://localhost:8080/"
        },
        "id": "Wf0Xs-Lydcg_",
        "outputId": "e0c06c9f-201a-4761-f1f3-d3014409b4b2"
      },
      "execution_count": null,
      "outputs": [
        {
          "output_type": "execute_result",
          "data": {
            "text/plain": [
              "11"
            ]
          },
          "metadata": {},
          "execution_count": 98
        }
      ]
    },
    {
      "cell_type": "code",
      "source": [
        "#Resta, se representa con el guíon -\n",
        "6-5"
      ],
      "metadata": {
        "colab": {
          "base_uri": "https://localhost:8080/"
        },
        "id": "phs921TYd9eO",
        "outputId": "8a505f75-23de-42ab-b335-6df66762fdbe"
      },
      "execution_count": null,
      "outputs": [
        {
          "output_type": "execute_result",
          "data": {
            "text/plain": [
              "1"
            ]
          },
          "metadata": {},
          "execution_count": 99
        }
      ]
    },
    {
      "cell_type": "code",
      "source": [
        "#Multiplicación se representa con el asterisco *, también me sirve para multiplicar cadenas\n",
        "6*5"
      ],
      "metadata": {
        "colab": {
          "base_uri": "https://localhost:8080/"
        },
        "id": "u9ahMZBGeCPm",
        "outputId": "07bf1160-adde-483b-ee0c-ff42722e309a"
      },
      "execution_count": null,
      "outputs": [
        {
          "output_type": "execute_result",
          "data": {
            "text/plain": [
              "30"
            ]
          },
          "metadata": {},
          "execution_count": 100
        }
      ]
    },
    {
      "cell_type": "code",
      "source": [
        "#División se representa con el simbolo slash /, y me da resultados con decimales\n",
        "12/2"
      ],
      "metadata": {
        "colab": {
          "base_uri": "https://localhost:8080/"
        },
        "id": "lNcwPWZaeIcB",
        "outputId": "3befdfa1-e5c7-42a0-cda4-d0770fe1614d"
      },
      "execution_count": null,
      "outputs": [
        {
          "output_type": "execute_result",
          "data": {
            "text/plain": [
              "6.0"
            ]
          },
          "metadata": {},
          "execution_count": 101
        }
      ]
    },
    {
      "cell_type": "code",
      "source": [
        "#Potenciación se usa el doble asterisco **, primero la base y luego el exponente\n",
        "5**5"
      ],
      "metadata": {
        "colab": {
          "base_uri": "https://localhost:8080/"
        },
        "id": "_ppG77MBeOqV",
        "outputId": "eb2e1582-a280-4dcf-dc50-eaf15339aa60"
      },
      "execution_count": null,
      "outputs": [
        {
          "output_type": "execute_result",
          "data": {
            "text/plain": [
              "3125"
            ]
          },
          "metadata": {},
          "execution_count": 102
        }
      ]
    },
    {
      "cell_type": "code",
      "source": [
        "#Modulo... para hacer el modulo uso el signo %\n",
        "23%4"
      ],
      "metadata": {
        "colab": {
          "base_uri": "https://localhost:8080/"
        },
        "id": "xcxdwt3cenXy",
        "outputId": "9f7ee061-1885-4f62-a531-c56739d740c8"
      },
      "execution_count": null,
      "outputs": [
        {
          "output_type": "execute_result",
          "data": {
            "text/plain": [
              "3"
            ]
          },
          "metadata": {},
          "execution_count": 103
        }
      ]
    },
    {
      "cell_type": "markdown",
      "source": [
        "Operadores de comparación, nos sirven como su nombre lo indica para comparar valores y saber si la comparación es verdadera o falsa"
      ],
      "metadata": {
        "id": "1_VM4LVOfk9D"
      }
    },
    {
      "cell_type": "code",
      "source": [
        "#Para comparar si dos valores son iguales uso ==\n",
        "(3+29)==21"
      ],
      "metadata": {
        "colab": {
          "base_uri": "https://localhost:8080/"
        },
        "id": "n5q0zzcIffCa",
        "outputId": "f37834ac-d621-4d80-9a41-0bbb495beffc"
      },
      "execution_count": null,
      "outputs": [
        {
          "output_type": "execute_result",
          "data": {
            "text/plain": [
              "False"
            ]
          },
          "metadata": {},
          "execution_count": 104
        }
      ]
    },
    {
      "cell_type": "code",
      "source": [
        "#Para hacer uso de una comparación diferente de, uso !=\n",
        "(3+29)!=21"
      ],
      "metadata": {
        "colab": {
          "base_uri": "https://localhost:8080/"
        },
        "id": "cXQ4rlcLf3qD",
        "outputId": "46421197-1fad-4473-81ca-448c762a2f80"
      },
      "execution_count": null,
      "outputs": [
        {
          "output_type": "execute_result",
          "data": {
            "text/plain": [
              "True"
            ]
          },
          "metadata": {},
          "execution_count": 105
        }
      ]
    },
    {
      "cell_type": "code",
      "source": [
        "#Mayor que >\n",
        "(3+29)>21"
      ],
      "metadata": {
        "colab": {
          "base_uri": "https://localhost:8080/"
        },
        "id": "T4kkOcdSgD2S",
        "outputId": "1dfb6c55-ce8e-4201-87ee-2239b154111b"
      },
      "execution_count": null,
      "outputs": [
        {
          "output_type": "execute_result",
          "data": {
            "text/plain": [
              "True"
            ]
          },
          "metadata": {},
          "execution_count": 106
        }
      ]
    },
    {
      "cell_type": "code",
      "source": [
        "#Menor que <\n",
        "(3+29)<21"
      ],
      "metadata": {
        "colab": {
          "base_uri": "https://localhost:8080/"
        },
        "id": "twnXXhadgQSH",
        "outputId": "579564f2-605d-406a-ae0f-ce606f6c2dd3"
      },
      "execution_count": null,
      "outputs": [
        {
          "output_type": "execute_result",
          "data": {
            "text/plain": [
              "False"
            ]
          },
          "metadata": {},
          "execution_count": 107
        }
      ]
    },
    {
      "cell_type": "code",
      "source": [
        "#menor o igual o mayor o igual\n",
        "#>= Mayor o igual que\n",
        "#<= Menor o igual que\n",
        "(3+18)<=21"
      ],
      "metadata": {
        "colab": {
          "base_uri": "https://localhost:8080/"
        },
        "id": "szLFJRrlgWL_",
        "outputId": "4460dc4b-c63a-46e7-a10e-ce5ce07847f5"
      },
      "execution_count": null,
      "outputs": [
        {
          "output_type": "execute_result",
          "data": {
            "text/plain": [
              "True"
            ]
          },
          "metadata": {},
          "execution_count": 108
        }
      ]
    },
    {
      "cell_type": "markdown",
      "source": [
        "Condicionales: Me permiten ejecutar un bloque de código si la condición es verdadera o falsa, sirven como entes de control. su sintaxis es de la siguiente manera, las condicionales en python son **if**, **elif** y **else**."
      ],
      "metadata": {
        "id": "0rtXnuDPgx-X"
      }
    },
    {
      "cell_type": "code",
      "source": [
        "#If condición:\n",
        " #(Código que quiero ejecutar)\n",
        "#else:\n",
        " #(código a ejecutar)"
      ],
      "metadata": {
        "id": "qJBra79NgvAn"
      },
      "execution_count": null,
      "outputs": []
    },
    {
      "cell_type": "code",
      "source": [
        "edad_michael=16\n",
        "if edad_michael >= 18:\n",
        "  print(\"Michael bienvenido, pero deberías estar trabajando\")\n",
        "else:\n",
        "  print(\"Michael, estas muy chiquito\")"
      ],
      "metadata": {
        "colab": {
          "base_uri": "https://localhost:8080/"
        },
        "id": "haa4_1HmhhR0",
        "outputId": "638bc349-61d5-4722-c12f-8d01c169d4af"
      },
      "execution_count": null,
      "outputs": [
        {
          "output_type": "stream",
          "name": "stdout",
          "text": [
            "Michael, estas muy chiquito\n"
          ]
        }
      ]
    },
    {
      "cell_type": "code",
      "source": [],
      "metadata": {
        "id": "xSZ1Uq5IifsQ"
      },
      "execution_count": null,
      "outputs": []
    },
    {
      "cell_type": "code",
      "source": [
        "edad_usuario=int(input(\"Hola, para ingresar por favor comprueba tu edad\"))\n",
        "if edad_usuario >= 18:\n",
        "  print(\"Bienvenido, puedes apostar tu casa\")\n",
        "else:\n",
        "  print(\"Eres pequeño, no apuestes por favor\")"
      ],
      "metadata": {
        "colab": {
          "base_uri": "https://localhost:8080/"
        },
        "id": "KE7qRnI-h29m",
        "outputId": "c1bac5ea-c6d2-4e03-93e9-f85d4a31fe1c"
      },
      "execution_count": null,
      "outputs": [
        {
          "output_type": "stream",
          "name": "stdout",
          "text": [
            "Hola, para ingresar por favor comprueba tu edad12\n",
            "Eres pequeño, no apuestes por favor\n"
          ]
        }
      ]
    },
    {
      "cell_type": "code",
      "source": [
        "edad_usuario=int(input(\"Hola, para ingresar por favor comprueba tu edad\"))\n",
        "if edad_usuario >= 18:\n",
        "  print(\"Bienvenido, puedes apostar tu casa\")\n",
        "elif edad_usuario >=13:\n",
        "  print(\"Eres un adolescente, pero no te preocupes, te esperaremos\")\n",
        "else:\n",
        "  print(\"Eres pequeño, no apuestes por favor\")"
      ],
      "metadata": {
        "colab": {
          "base_uri": "https://localhost:8080/"
        },
        "id": "5uueZpijivYA",
        "outputId": "da3d9a3b-704f-4584-d275-094ce5e9f82b"
      },
      "execution_count": null,
      "outputs": [
        {
          "output_type": "stream",
          "name": "stdout",
          "text": [
            "Hola, para ingresar por favor comprueba tu edad12\n",
            "Eres pequeño, no apuestes por favor\n"
          ]
        }
      ]
    },
    {
      "cell_type": "code",
      "source": [
        "paises"
      ],
      "metadata": {
        "colab": {
          "base_uri": "https://localhost:8080/"
        },
        "id": "bcMUghCljr6b",
        "outputId": "4dce5d9c-22a9-471e-f038-8de997ae6ee1"
      },
      "execution_count": null,
      "outputs": [
        {
          "output_type": "execute_result",
          "data": {
            "text/plain": [
              "['Venezuela', 'Paraguay', 'México', 'Ecuador', 'Colombia']"
            ]
          },
          "metadata": {},
          "execution_count": 113
        }
      ]
    },
    {
      "cell_type": "code",
      "source": [
        "if \"Ecuador\" in paises:\n",
        " print(\"Esta no es una lista latinoamericana\")\n",
        "else:\n",
        "  print(\"los sudacas\")"
      ],
      "metadata": {
        "colab": {
          "base_uri": "https://localhost:8080/"
        },
        "id": "PoipovfukENv",
        "outputId": "5c5ee947-3d3d-4468-a77e-6241cd5b1da7"
      },
      "execution_count": null,
      "outputs": [
        {
          "output_type": "stream",
          "name": "stdout",
          "text": [
            "Esta no es una lista latinoamericana\n"
          ]
        }
      ]
    },
    {
      "cell_type": "code",
      "source": [
        "#escribe un programa que reciba dos cadenas del usuario y que las concatene y las muestre por pantalla\n",
        "cadena1=input(\"inserte primera palabra \")\n",
        "espacio=\" \"\n",
        "cadena2=input(\"inserte segunda palabra \")\n",
        "cadena_completa=cadena1+espacio+cadena2\n",
        "print(cadena_completa)"
      ],
      "metadata": {
        "id": "3p6DnYlwkYrz",
        "colab": {
          "base_uri": "https://localhost:8080/"
        },
        "outputId": "57739395-0aad-4c31-9473-575ca2b404c1"
      },
      "execution_count": null,
      "outputs": [
        {
          "output_type": "stream",
          "name": "stdout",
          "text": [
            "inserte primera palabra lorena\n",
            "inserte segunda palabra beltran\n",
            "lorena beltran\n"
          ]
        }
      ]
    },
    {
      "cell_type": "markdown",
      "source": [
        "**BUCLE FOR** **CICLOS Y BUCLES**: Son estructuras de codigo que me permiten iterar sobre una estructura o un rango, existen dos tipos de ciclos mas usados: los FOR que significan PARA, o los WHILE que significan PARA QUE\n"
      ],
      "metadata": {
        "id": "HS6vhev0t_cA"
      }
    },
    {
      "cell_type": "code",
      "source": [
        "#De esta manera son los ciclos for\n",
        "#for <variable>int<lista>:\n",
        "#<ejecutable>"
      ],
      "metadata": {
        "id": "AxkjWowAtWIF"
      },
      "execution_count": null,
      "outputs": []
    },
    {
      "cell_type": "code",
      "source": [
        "paises"
      ],
      "metadata": {
        "colab": {
          "base_uri": "https://localhost:8080/"
        },
        "id": "JmrlOhTYvx5K",
        "outputId": "f95f640a-5f3e-4cff-9943-cf8ff5624230"
      },
      "execution_count": null,
      "outputs": [
        {
          "output_type": "execute_result",
          "data": {
            "text/plain": [
              "['Venezuela', 'Paraguay', 'México', 'Ecuador', 'Colombia']"
            ]
          },
          "metadata": {},
          "execution_count": 117
        }
      ]
    },
    {
      "cell_type": "code",
      "source": [
        "for i in paises:\n",
        "  print(i)\n"
      ],
      "metadata": {
        "colab": {
          "base_uri": "https://localhost:8080/"
        },
        "id": "nGFz7CS2v8gh",
        "outputId": "3308604b-6b2e-4aaf-abc7-288009c80cfc"
      },
      "execution_count": null,
      "outputs": [
        {
          "output_type": "stream",
          "name": "stdout",
          "text": [
            "Venezuela\n",
            "Paraguay\n",
            "México\n",
            "Ecuador\n",
            "Colombia\n"
          ]
        }
      ]
    },
    {
      "cell_type": "code",
      "source": [
        "for i in paises:\n",
        "  if i == \"Colombia\":\n",
        "    print(i,\"Este pais está infiltrado\")"
      ],
      "metadata": {
        "colab": {
          "base_uri": "https://localhost:8080/"
        },
        "id": "BeA_Peq3wR-x",
        "outputId": "0ab427cb-11bf-4710-8fb7-f4cbcf0dad81"
      },
      "execution_count": null,
      "outputs": [
        {
          "output_type": "stream",
          "name": "stdout",
          "text": [
            "Colombia Este pais está infiltrado\n"
          ]
        }
      ]
    },
    {
      "cell_type": "code",
      "source": [
        "for numero, i in enumerate(paises):\n",
        "  print(numero)\n",
        "  print(i)"
      ],
      "metadata": {
        "colab": {
          "base_uri": "https://localhost:8080/"
        },
        "id": "rNlprw4BwuaX",
        "outputId": "f7cf9ff1-b209-4f5f-fd01-dba041e5a804"
      },
      "execution_count": null,
      "outputs": [
        {
          "output_type": "stream",
          "name": "stdout",
          "text": [
            "0\n",
            "Venezuela\n",
            "1\n",
            "Paraguay\n",
            "2\n",
            "México\n",
            "3\n",
            "Ecuador\n",
            "4\n",
            "Colombia\n"
          ]
        }
      ]
    },
    {
      "cell_type": "code",
      "source": [
        "#Funcion len me da la longitud de una regla\n",
        "len(paises)"
      ],
      "metadata": {
        "colab": {
          "base_uri": "https://localhost:8080/"
        },
        "id": "tq9M29wg3Ydl",
        "outputId": "a9c962b1-ee50-46c0-f874-21b73b2872e5"
      },
      "execution_count": null,
      "outputs": [
        {
          "output_type": "execute_result",
          "data": {
            "text/plain": [
              "5"
            ]
          },
          "metadata": {},
          "execution_count": 129
        }
      ]
    },
    {
      "cell_type": "code",
      "source": [
        "#Funcion max me sirve para mostrar el numero mas grande de una regla\n",
        "max([1,4,5,6,8,2,9,3])"
      ],
      "metadata": {
        "colab": {
          "base_uri": "https://localhost:8080/"
        },
        "id": "jjJJDTmAxLop",
        "outputId": "f400300a-99d1-4ceb-fe29-691b262636b3"
      },
      "execution_count": null,
      "outputs": [
        {
          "output_type": "execute_result",
          "data": {
            "text/plain": [
              "9"
            ]
          },
          "metadata": {},
          "execution_count": 130
        }
      ]
    },
    {
      "cell_type": "code",
      "source": [
        "#Funcion min me sirve para mostrar el valor mas bajo de una regla\n",
        "min([1,4,5,6,8,2,9,3])"
      ],
      "metadata": {
        "colab": {
          "base_uri": "https://localhost:8080/"
        },
        "id": "AJp0c_Li3x5B",
        "outputId": "4f4af763-476b-4d14-c9ae-2fe1c4afdf3a"
      },
      "execution_count": null,
      "outputs": [
        {
          "output_type": "execute_result",
          "data": {
            "text/plain": [
              "1"
            ]
          },
          "metadata": {},
          "execution_count": 131
        }
      ]
    },
    {
      "cell_type": "code",
      "source": [
        "#type me sirve para saber el tipo de dato de una variable\n",
        "type(paises)"
      ],
      "metadata": {
        "colab": {
          "base_uri": "https://localhost:8080/"
        },
        "id": "I2j2JX7Z35br",
        "outputId": "8f90bf23-05cc-4232-b439-67024e6c9504"
      },
      "execution_count": null,
      "outputs": [
        {
          "output_type": "execute_result",
          "data": {
            "text/plain": [
              "list"
            ]
          },
          "metadata": {},
          "execution_count": 132
        }
      ]
    },
    {
      "cell_type": "code",
      "source": [
        "#Funcion round me sirve para redondear decimales\n",
        "round(3.141624,2)"
      ],
      "metadata": {
        "colab": {
          "base_uri": "https://localhost:8080/"
        },
        "id": "0ghs9FJs3_lr",
        "outputId": "35b8cf6b-32a6-4dfb-d163-dfa43369d738"
      },
      "execution_count": null,
      "outputs": [
        {
          "output_type": "execute_result",
          "data": {
            "text/plain": [
              "3.14"
            ]
          },
          "metadata": {},
          "execution_count": 133
        }
      ]
    },
    {
      "cell_type": "code",
      "source": [
        "#Funcion range nos sirve para crear uana secuencia de numeros, tiene 3 argumentos; el inicio, el final y el paso\n",
        "contando=range(0,200,5)"
      ],
      "metadata": {
        "id": "6H_HJpdw4NKH"
      },
      "execution_count": null,
      "outputs": []
    },
    {
      "cell_type": "code",
      "source": [
        "for i in contando:\n",
        "  print(i)"
      ],
      "metadata": {
        "colab": {
          "base_uri": "https://localhost:8080/"
        },
        "id": "tRHcdSHk4efK",
        "outputId": "851e748c-9f81-418b-d396-c60446d92368"
      },
      "execution_count": null,
      "outputs": [
        {
          "output_type": "stream",
          "name": "stdout",
          "text": [
            "0\n",
            "5\n",
            "10\n",
            "15\n",
            "20\n",
            "25\n",
            "30\n",
            "35\n",
            "40\n",
            "45\n",
            "50\n",
            "55\n",
            "60\n",
            "65\n",
            "70\n",
            "75\n",
            "80\n",
            "85\n",
            "90\n",
            "95\n",
            "100\n",
            "105\n",
            "110\n",
            "115\n",
            "120\n",
            "125\n",
            "130\n",
            "135\n",
            "140\n",
            "145\n",
            "150\n",
            "155\n",
            "160\n",
            "165\n",
            "170\n",
            "175\n",
            "180\n",
            "185\n",
            "190\n",
            "195\n"
          ]
        }
      ]
    },
    {
      "cell_type": "code",
      "source": [
        "#Las funciones propias son las que yo creo y me sirven para reutilizar un codigo\n",
        "#La palabra reservada para declarar una funcion es def\n",
        "def suma(a,b):\n",
        "  resultado=a+b\n",
        "  return resultado"
      ],
      "metadata": {
        "id": "Yj08efDW4vfi"
      },
      "execution_count": null,
      "outputs": []
    },
    {
      "cell_type": "code",
      "source": [
        "suma(2,4)"
      ],
      "metadata": {
        "colab": {
          "base_uri": "https://localhost:8080/"
        },
        "id": "l3mNEgQY5TUp",
        "outputId": "f0f48c24-0044-437c-b331-c2600b59a004"
      },
      "execution_count": null,
      "outputs": [
        {
          "output_type": "execute_result",
          "data": {
            "text/plain": [
              "6"
            ]
          },
          "metadata": {},
          "execution_count": 138
        }
      ]
    },
    {
      "cell_type": "code",
      "source": [
        "def pan(cantidad_de_pan,valor_de_pan):\n",
        "  precio_pan=cantidad_de_pan*valor_de_pan\n",
        "  return precio_pan\n"
      ],
      "metadata": {
        "id": "za0xqYN55a8y"
      },
      "execution_count": null,
      "outputs": []
    },
    {
      "cell_type": "code",
      "source": [
        "cantidad_de_pan=int(input(\"Buenos días, cuantos panes quiere?: \"))\n",
        "valor_de_pan=500\n",
        "precio_pan=cantidad_de_pan*valor_de_pan\n",
        "precio_pan"
      ],
      "metadata": {
        "colab": {
          "base_uri": "https://localhost:8080/"
        },
        "id": "VeKXvN_Y6ERm",
        "outputId": "a238eb43-246e-4b08-adf3-dce79152d552"
      },
      "execution_count": null,
      "outputs": [
        {
          "name": "stdout",
          "output_type": "stream",
          "text": [
            "Buenos días, cuantos panes quiere?: 5\n"
          ]
        },
        {
          "output_type": "execute_result",
          "data": {
            "text/plain": [
              "2500"
            ]
          },
          "metadata": {},
          "execution_count": 151
        }
      ]
    },
    {
      "cell_type": "code",
      "source": [
        "#Escribe un programa que calcule el total de una compra de supermercado, el usuario debe ingresar el precio de dos productos y las cantidades que desee comprar de cada uno, luego el programa deberá permitir sumar los precios de ambos productos, multiplicar los precios por las cantidades de producto para obtener la cantidad total, restar un descuento del total(si el usuario tiene un cupon), dividir el total entre 2 personas por si desean dividir la cuenta.\n",
        "def suma_productos(a,b):\n",
        "  resultado_suma=a+b\n",
        "  return resultado_suma\n",
        "def multiplicacion(a,b):\n",
        "  resultado_multiplicacion=a*b\n",
        "  return resultado_multiplicacion\n",
        "def dividir(a,b):\n",
        "  if b !=0:\n",
        "    return a/b\n",
        "  else:\n",
        "    return print(\"No se puede didivir entre cero\")\n",
        "def resta(a,b):\n",
        "  resultado_resta=a-b\n",
        "  return resultado_resta"
      ],
      "metadata": {
        "id": "J37sYS4M9ZX3"
      },
      "execution_count": null,
      "outputs": []
    },
    {
      "cell_type": "code",
      "source": [
        "print(\"Bienvenido a supermarket de la esquina\")\n",
        "precio_1=float(input(\"ingresa el precio de tu producto\"))\n",
        "cantidad_1=int(input(\"ingresa la cantidad\"))\n",
        "precio_2=float(input(\"ingresa el precio de tu producto\"))\n",
        "cantidad_2=int(input(\"ingresa la cantidad\"))\n",
        "operacion=input(\"\"\"Bienvenido, como estas?, cuentame que quieres hacer\n",
        "1. Sumar los precios de ambos productos\n",
        "2. Calcular el costo total multiplicando precio por cantidad\n",
        "3. Aplicar un descuento al total\n",
        "4. Dividir el total entre dos personas\n",
        "No olvides que solo puedes elegir 1,2,3 y 4: \"\"\")\n",
        "if operacion==\"1\":\n",
        "  total_precio=suma_productos(precio_1,precio_2)\n",
        "  print(total_precio)"
      ],
      "metadata": {
        "colab": {
          "base_uri": "https://localhost:8080/"
        },
        "id": "n0vnBOtg9RhX",
        "outputId": "4d4e6813-edd1-443f-ac14-d3d2d05cbaba"
      },
      "execution_count": null,
      "outputs": [
        {
          "output_type": "stream",
          "name": "stdout",
          "text": [
            "Bienvenido a supermarket de la esquina\n",
            "ingresa el precio de tu producto2400\n",
            "ingresa la cantidad4\n",
            "ingresa el precio de tu producto1200\n",
            "ingresa la cantidad6\n",
            "Bienvenido, como estas?, cuentame que quieres hacer\n",
            "1. Sumar los precios de ambos productos\n",
            "2. Calcular el costo total multiplicando precio por cantidad\n",
            "3. Aplicar un descuento al total\n",
            "4. Dividir el total entre dos personas\n",
            "No olvides que solo puedes elegir 1,2,3 y 4: 1\n",
            "3600.0\n"
          ]
        }
      ]
    },
    {
      "cell_type": "code",
      "source": [],
      "metadata": {
        "id": "WsQaTG42CQM6"
      },
      "execution_count": null,
      "outputs": []
    }
  ]
}